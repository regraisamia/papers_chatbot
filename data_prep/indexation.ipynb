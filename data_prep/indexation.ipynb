{
 "cells": [
  {
   "cell_type": "code",
   "execution_count": 2,
   "id": "c9d0b772",
   "metadata": {},
   "outputs": [
    {
     "name": "stdout",
     "output_type": "stream",
     "text": [
      "WARNING:tensorflow:From c:\\Users\\hp\\AppData\\Local\\Programs\\Python\\Python310\\lib\\site-packages\\keras\\src\\losses.py:2976: The name tf.losses.sparse_softmax_cross_entropy is deprecated. Please use tf.compat.v1.losses.sparse_softmax_cross_entropy instead.\n",
      "\n",
      "🔹 Chargement des articles depuis SQLite...\n",
      "🔹 Articles chargés : 3000\n",
      "🔹 Chargement du modèle SentenceTransformer...\n",
      "🔹 Vectorisation des textes...\n"
     ]
    },
    {
     "data": {
      "application/vnd.jupyter.widget-view+json": {
       "model_id": "46b4a8cfaa7540c3b4b3842bbb985a32",
       "version_major": 2,
       "version_minor": 0
      },
      "text/plain": [
       "Batches:   0%|          | 0/47 [00:00<?, ?it/s]"
      ]
     },
     "metadata": {},
     "output_type": "display_data"
    },
    {
     "name": "stdout",
     "output_type": "stream",
     "text": [
      "🔹 Création de l'index FAISS (cosine similarity)...\n",
      "✅ Index FAISS sauvegardé : faiss_index.bin\n",
      "✅ Liste des article_id sauvegardée : article_ids.pkl\n"
     ]
    }
   ],
   "source": [
    "import os\n",
    "import pandas as pd\n",
    "import numpy as np\n",
    "from sentence_transformers import SentenceTransformer\n",
    "import faiss\n",
    "import pickle\n",
    "import sqlite3\n",
    "\n",
    "# Chemins\n",
    "DB_PATH = \"arxiv_relational.db\"        # Base de données SQLite locale\n",
    "FAISS_INDEX_PATH = \"faiss_index.bin\"   # Fichier d'index FAISS\n",
    "ARTICLE_IDS_PATH = \"article_ids.pkl\"   # Mapping article_id <-> position FAISS\n",
    "\n",
    "# 1. Chargement des articles depuis SQLite\n",
    "print(\"🔹 Chargement des articles depuis SQLite...\")\n",
    "conn = sqlite3.connect(DB_PATH)\n",
    "df = pd.read_sql_query(\"SELECT article_id, title, abstract FROM articles\", conn)\n",
    "conn.close()\n",
    "print(f\"🔹 Articles chargés : {len(df)}\")\n",
    "\n",
    "# 2. Nettoyage simple des textes\n",
    "def preprocess_text(text):\n",
    "    if pd.isna(text):\n",
    "        return \"\"\n",
    "    return text.replace('\\n', ' ').strip()\n",
    "\n",
    "texts = ((df['title'].fillna('') + \". \" + df['abstract'].fillna('')).map(preprocess_text)).tolist()\n",
    "\n",
    "# 3. Vectorisation avec Sentence Transformers\n",
    "print(\"🔹 Chargement du modèle SentenceTransformer...\")\n",
    "model = SentenceTransformer('all-MiniLM-L6-v2')\n",
    "\n",
    "print(\"🔹 Vectorisation des textes...\")\n",
    "embeddings = model.encode(texts, batch_size=64, show_progress_bar=True, normalize_embeddings=True)\n",
    "\n",
    "# 4. Création de l’index FAISS\n",
    "print(\"🔹 Création de l'index FAISS (cosine similarity)...\")\n",
    "dimension = embeddings.shape[1]\n",
    "index = faiss.IndexFlatIP(dimension)\n",
    "index.add(embeddings)\n",
    "\n",
    "# 5. Sauvegarde de l'index et des IDs\n",
    "os.makedirs(\"data\", exist_ok=True)\n",
    "faiss.write_index(index, FAISS_INDEX_PATH)\n",
    "with open(ARTICLE_IDS_PATH, 'wb') as f:\n",
    "    pickle.dump(df['article_id'].tolist(), f)\n",
    "\n",
    "print(\"✅ Index FAISS sauvegardé :\", FAISS_INDEX_PATH)\n",
    "print(\"✅ Liste des article_id sauvegardée :\", ARTICLE_IDS_PATH)\n"
   ]
  }
 ],
 "metadata": {
  "kernelspec": {
   "display_name": "Python 3",
   "language": "python",
   "name": "python3"
  },
  "language_info": {
   "codemirror_mode": {
    "name": "ipython",
    "version": 3
   },
   "file_extension": ".py",
   "mimetype": "text/x-python",
   "name": "python",
   "nbconvert_exporter": "python",
   "pygments_lexer": "ipython3",
   "version": "3.10.0"
  }
 },
 "nbformat": 4,
 "nbformat_minor": 5
}
